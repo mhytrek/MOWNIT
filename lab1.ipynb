{
 "cells": [
  {
   "cell_type": "code",
   "execution_count": 1,
   "metadata": {},
   "outputs": [],
   "source": [
    "import numpy as np\n",
    "import pandas as pd"
   ]
  },
  {
   "cell_type": "markdown",
   "metadata": {},
   "source": [
    "# Mownit Lab 1 - Artmetyka komputerowa\n",
    "\n",
    "### Część 1 i 2 - Sumowanie liczb pojedynczej precyzji i Algorytm Kahana\n",
    "\n",
    "\n",
    "### Dane testowe"
   ]
  },
  {
   "cell_type": "code",
   "execution_count": 2,
   "metadata": {},
   "outputs": [],
   "source": [
    "tablica = [0.1 for _ in range(10**7)]\n",
    "tablica2 = [0.9 - x * 0.001 for x in range(0,100)]"
   ]
  },
  {
   "cell_type": "markdown",
   "metadata": {},
   "source": [
    "### Wartości oczekiwane"
   ]
  },
  {
   "cell_type": "code",
   "execution_count": 3,
   "metadata": {},
   "outputs": [],
   "source": [
    "result1 = 0.1 * (10**7)\n",
    "result2 = ((2*0.9 - (99*0.001))/2)*100"
   ]
  },
  {
   "cell_type": "markdown",
   "metadata": {},
   "source": [
    "### Algorytmy"
   ]
  },
  {
   "cell_type": "code",
   "execution_count": 4,
   "metadata": {},
   "outputs": [],
   "source": [
    "def sum(tab):\n",
    "    suma = 0\n",
    "    for n in tab:\n",
    "        suma += n\n",
    "    print(suma)\n",
    "    return suma"
   ]
  },
  {
   "cell_type": "code",
   "execution_count": 5,
   "metadata": {},
   "outputs": [],
   "source": [
    "def rek_sum(tab):\n",
    "    newtab = []\n",
    "    i=0\n",
    "    while i < len(tab):\n",
    "        if i+1 == len(tab):\n",
    "            newtab.append(tab[i])\n",
    "            break\n",
    "        newtab.append(tab[i]+tab[i+1])\n",
    "        i += 2\n",
    "    if len(tab) == 1:\n",
    "        return tab[0]\n",
    "    else:\n",
    "        return rek_sum(newtab)"
   ]
  },
  {
   "cell_type": "code",
   "execution_count": 6,
   "metadata": {},
   "outputs": [],
   "source": [
    "def algorytm_Kahana(tab):\n",
    "    sum = 0.0\n",
    "    err = 0.0\n",
    "    for i in range(len(tab)):\n",
    "        y = (tab[i] - err)\n",
    "        temp = (sum + y)\n",
    "        err = (temp - sum) - y\n",
    "        sum = temp\n",
    "    return sum\n",
    "    "
   ]
  },
  {
   "cell_type": "markdown",
   "metadata": {},
   "source": [
    "### Porównanie wyników\n",
    "\n",
    "#### Tablica 1"
   ]
  },
  {
   "cell_type": "code",
   "execution_count": 7,
   "metadata": {},
   "outputs": [
    {
     "name": "stdout",
     "output_type": "stream",
     "text": [
      "999999.9998389754\n",
      "CPU times: user 335 ms, sys: 5.41 ms, total: 340 ms\n",
      "Wall time: 348 ms\n"
     ]
    }
   ],
   "source": [
    "%%time\n",
    "wynik_sum_1 = sum(tablica)"
   ]
  },
  {
   "cell_type": "code",
   "execution_count": 8,
   "metadata": {},
   "outputs": [
    {
     "name": "stdout",
     "output_type": "stream",
     "text": [
      "Bład bezwgledny 0.0001610246254131198\n",
      "Błąd względny 1.610246254131198e-10\n"
     ]
    }
   ],
   "source": [
    "print(\"Bład bezwgledny\", result1 - wynik_sum_1)\n",
    "print(\"Błąd względny\", (result1 - wynik_sum_1)/result1)"
   ]
  },
  {
   "cell_type": "code",
   "execution_count": 9,
   "metadata": {},
   "outputs": [
    {
     "name": "stdout",
     "output_type": "stream",
     "text": [
      "CPU times: user 4.1 s, sys: 282 ms, total: 4.38 s\n",
      "Wall time: 5.79 s\n"
     ]
    }
   ],
   "source": [
    "%%time\n",
    "wynik_rek_sum_1 = rek_sum(tablica)"
   ]
  },
  {
   "cell_type": "code",
   "execution_count": 10,
   "metadata": {},
   "outputs": [
    {
     "name": "stdout",
     "output_type": "stream",
     "text": [
      "Bład bezwgledny 0.0\n",
      "Błąd względny 0.0\n"
     ]
    }
   ],
   "source": [
    "print(\"Bład bezwgledny\", result1 - wynik_rek_sum_1)\n",
    "print(\"Błąd względny\", (result1 - wynik_rek_sum_1)/result1)"
   ]
  },
  {
   "cell_type": "code",
   "execution_count": 11,
   "metadata": {},
   "outputs": [
    {
     "name": "stdout",
     "output_type": "stream",
     "text": [
      "CPU times: user 907 ms, sys: 19.3 ms, total: 927 ms\n",
      "Wall time: 1.06 s\n"
     ]
    }
   ],
   "source": [
    "%%time\n",
    "wynik_kah_1 = algorytm_Kahana(tablica)"
   ]
  },
  {
   "cell_type": "code",
   "execution_count": 12,
   "metadata": {},
   "outputs": [
    {
     "name": "stdout",
     "output_type": "stream",
     "text": [
      "Bład bezwgledny 0.0\n",
      "Błąd względny 0.0\n"
     ]
    }
   ],
   "source": [
    "print(\"Bład bezwgledny\", result1 - wynik_kah_1)\n",
    "print(\"Błąd względny\", (result1 - wynik_kah_1)/result1)"
   ]
  },
  {
   "cell_type": "markdown",
   "metadata": {},
   "source": [
    "### Tablica 2"
   ]
  },
  {
   "cell_type": "code",
   "execution_count": 13,
   "metadata": {},
   "outputs": [
    {
     "name": "stdout",
     "output_type": "stream",
     "text": [
      "85.05\n",
      "CPU times: user 318 µs, sys: 601 µs, total: 919 µs\n",
      "Wall time: 1.15 ms\n"
     ]
    }
   ],
   "source": [
    "%%time\n",
    "wynik_sum_2 = sum(tablica2)"
   ]
  },
  {
   "cell_type": "code",
   "execution_count": 14,
   "metadata": {},
   "outputs": [
    {
     "name": "stdout",
     "output_type": "stream",
     "text": [
      "Bład bezwgledny 0.0\n",
      "Błąd względny 0.0\n"
     ]
    }
   ],
   "source": [
    "print(\"Bład bezwgledny\", result2 - wynik_sum_2)\n",
    "print(\"Błąd względny\", (result2 - wynik_sum_2)/result2)"
   ]
  },
  {
   "cell_type": "code",
   "execution_count": 15,
   "metadata": {},
   "outputs": [
    {
     "name": "stdout",
     "output_type": "stream",
     "text": [
      "CPU times: user 36 µs, sys: 1e+03 ns, total: 37 µs\n",
      "Wall time: 41.2 µs\n"
     ]
    }
   ],
   "source": [
    "%%time\n",
    "wynik_rek_2 = rek_sum(tablica2)"
   ]
  },
  {
   "cell_type": "code",
   "execution_count": 16,
   "metadata": {},
   "outputs": [
    {
     "name": "stdout",
     "output_type": "stream",
     "text": [
      "Bład bezwgledny -1.4210854715202004e-14\n",
      "Błąd względny -1.6708823886186954e-16\n"
     ]
    }
   ],
   "source": [
    "print(\"Bład bezwgledny\", result2 - wynik_rek_2)\n",
    "print(\"Błąd względny\", (result2 - wynik_rek_2)/result2)"
   ]
  },
  {
   "cell_type": "code",
   "execution_count": 17,
   "metadata": {},
   "outputs": [
    {
     "name": "stdout",
     "output_type": "stream",
     "text": [
      "CPU times: user 14 µs, sys: 1e+03 ns, total: 15 µs\n",
      "Wall time: 16.9 µs\n"
     ]
    }
   ],
   "source": [
    "%%time\n",
    "wynik_kah_2 = algorytm_Kahana(tablica2)"
   ]
  },
  {
   "cell_type": "code",
   "execution_count": 18,
   "metadata": {},
   "outputs": [
    {
     "name": "stdout",
     "output_type": "stream",
     "text": [
      "Bład bezwgledny 0.0\n",
      "Błąd względny 0.0\n"
     ]
    }
   ],
   "source": [
    "print(\"Bład bezwgledny\", result2 - wynik_kah_2)\n",
    "print(\"Błąd względny\", (result2 - wynik_kah_2)/result2)"
   ]
  },
  {
   "cell_type": "markdown",
   "metadata": {},
   "source": [
    "### Część 3 - Sumy czesiowe"
   ]
  },
  {
   "cell_type": "code",
   "execution_count": 19,
   "metadata": {},
   "outputs": [],
   "source": [
    "def dzeta_Riemana_wprzód(s,n):\n",
    "    sum = 0\n",
    "    for k in range(1, n+1):\n",
    "        sum += 1 / (k ** s)\n",
    "    return sum"
   ]
  },
  {
   "cell_type": "code",
   "execution_count": 20,
   "metadata": {},
   "outputs": [],
   "source": [
    "def dzeta_Riemana_wstecz(s,n):\n",
    "    sum = 0\n",
    "    for k in range(n + 1, 0, -1):\n",
    "        sum += 1/(k**s)\n",
    "    return sum"
   ]
  },
  {
   "cell_type": "code",
   "execution_count": 21,
   "metadata": {},
   "outputs": [],
   "source": [
    "def eta_Dirichleta_wprzód(s,n):\n",
    "    sum = 0\n",
    "    for k in range(1, n+1):\n",
    "        sum += ((-1) ** (k - 1)) * (1 / (k ** s))\n",
    "    return sum"
   ]
  },
  {
   "cell_type": "code",
   "execution_count": 22,
   "metadata": {},
   "outputs": [],
   "source": [
    "def eta_Dirichleta_wstecz(s,n):\n",
    "    sum = 0\n",
    "    for k in range(n,0,-1):\n",
    "        sum += ((-1) ** (k - 1)) * (1 / (k ** s))\n",
    "    return sum"
   ]
  },
  {
   "cell_type": "markdown",
   "metadata": {},
   "source": [
    "#### Testy"
   ]
  },
  {
   "cell_type": "code",
   "execution_count": 23,
   "metadata": {},
   "outputs": [],
   "source": [
    "s_list = [2, 3.6667, 5, 7.2, 10]\n",
    "n_list = [50, 100, 200, 500, 1000]"
   ]
  },
  {
   "cell_type": "code",
   "execution_count": 30,
   "metadata": {},
   "outputs": [],
   "source": [
    "data = pd.DataFrame({}, index = [\"Dzeta Riemana wprzód\", \"Dzeta Riemana wstecz\", \"Eta Dirichleta wprzód\", \"Eta Dirichleta wstecz\"])\n",
    "for s in s_list:\n",
    "    for n in n_list:\n",
    "        new_data = []\n",
    "        new_data.append(dzeta_Riemana_wprzód(s,n))\n",
    "        new_data.append(dzeta_Riemana_wstecz(s,n))\n",
    "        new_data.append(eta_Dirichleta_wprzód(s,n))\n",
    "        new_data.append(eta_Dirichleta_wstecz(s,n))\n",
    "        data[f\"s={s}, n={n}\"] = new_data"
   ]
  },
  {
   "cell_type": "code",
   "execution_count": 31,
   "metadata": {},
   "outputs": [
    {
     "data": {
      "text/html": [
       "<div>\n",
       "<style scoped>\n",
       "    .dataframe tbody tr th:only-of-type {\n",
       "        vertical-align: middle;\n",
       "    }\n",
       "\n",
       "    .dataframe tbody tr th {\n",
       "        vertical-align: top;\n",
       "    }\n",
       "\n",
       "    .dataframe thead th {\n",
       "        text-align: right;\n",
       "    }\n",
       "</style>\n",
       "<table border=\"1\" class=\"dataframe\">\n",
       "  <thead>\n",
       "    <tr style=\"text-align: right;\">\n",
       "      <th></th>\n",
       "      <th>s=2, n=50</th>\n",
       "      <th>s=2, n=100</th>\n",
       "      <th>s=2, n=200</th>\n",
       "      <th>s=2, n=500</th>\n",
       "      <th>s=2, n=1000</th>\n",
       "      <th>s=3.6667, n=50</th>\n",
       "      <th>s=3.6667, n=100</th>\n",
       "      <th>s=3.6667, n=200</th>\n",
       "      <th>s=3.6667, n=500</th>\n",
       "      <th>s=3.6667, n=1000</th>\n",
       "      <th>...</th>\n",
       "      <th>s=7.2, n=50</th>\n",
       "      <th>s=7.2, n=100</th>\n",
       "      <th>s=7.2, n=200</th>\n",
       "      <th>s=7.2, n=500</th>\n",
       "      <th>s=7.2, n=1000</th>\n",
       "      <th>s=10, n=50</th>\n",
       "      <th>s=10, n=100</th>\n",
       "      <th>s=10, n=200</th>\n",
       "      <th>s=10, n=500</th>\n",
       "      <th>s=10, n=1000</th>\n",
       "    </tr>\n",
       "  </thead>\n",
       "  <tbody>\n",
       "    <tr>\n",
       "      <th>Dzeta Riemana wprzód</th>\n",
       "      <td>1.625133</td>\n",
       "      <td>1.634984</td>\n",
       "      <td>1.639947</td>\n",
       "      <td>1.642936</td>\n",
       "      <td>1.643935</td>\n",
       "      <td>1.109400</td>\n",
       "      <td>1.109409</td>\n",
       "      <td>1.109410</td>\n",
       "      <td>1.109410</td>\n",
       "      <td>1.109411</td>\n",
       "      <td>...</td>\n",
       "      <td>1.007228</td>\n",
       "      <td>1.007228</td>\n",
       "      <td>1.007228</td>\n",
       "      <td>1.007228</td>\n",
       "      <td>1.007228</td>\n",
       "      <td>1.000995</td>\n",
       "      <td>1.000995</td>\n",
       "      <td>1.000995</td>\n",
       "      <td>1.000995</td>\n",
       "      <td>1.000995</td>\n",
       "    </tr>\n",
       "    <tr>\n",
       "      <th>Dzeta Riemana wstecz</th>\n",
       "      <td>1.625517</td>\n",
       "      <td>1.635082</td>\n",
       "      <td>1.639971</td>\n",
       "      <td>1.642940</td>\n",
       "      <td>1.643936</td>\n",
       "      <td>1.109400</td>\n",
       "      <td>1.109409</td>\n",
       "      <td>1.109410</td>\n",
       "      <td>1.109410</td>\n",
       "      <td>1.109411</td>\n",
       "      <td>...</td>\n",
       "      <td>1.007228</td>\n",
       "      <td>1.007228</td>\n",
       "      <td>1.007228</td>\n",
       "      <td>1.007228</td>\n",
       "      <td>1.007228</td>\n",
       "      <td>1.000995</td>\n",
       "      <td>1.000995</td>\n",
       "      <td>1.000995</td>\n",
       "      <td>1.000995</td>\n",
       "      <td>1.000995</td>\n",
       "    </tr>\n",
       "    <tr>\n",
       "      <th>Eta Dirichleta wprzód</th>\n",
       "      <td>0.822271</td>\n",
       "      <td>0.822418</td>\n",
       "      <td>0.822455</td>\n",
       "      <td>0.822465</td>\n",
       "      <td>0.822467</td>\n",
       "      <td>0.934693</td>\n",
       "      <td>0.934693</td>\n",
       "      <td>0.934693</td>\n",
       "      <td>0.934693</td>\n",
       "      <td>0.934693</td>\n",
       "      <td>...</td>\n",
       "      <td>0.993527</td>\n",
       "      <td>0.993527</td>\n",
       "      <td>0.993527</td>\n",
       "      <td>0.993527</td>\n",
       "      <td>0.993527</td>\n",
       "      <td>0.999040</td>\n",
       "      <td>0.999040</td>\n",
       "      <td>0.999040</td>\n",
       "      <td>0.999040</td>\n",
       "      <td>0.999040</td>\n",
       "    </tr>\n",
       "    <tr>\n",
       "      <th>Eta Dirichleta wstecz</th>\n",
       "      <td>0.822271</td>\n",
       "      <td>0.822418</td>\n",
       "      <td>0.822455</td>\n",
       "      <td>0.822465</td>\n",
       "      <td>0.822467</td>\n",
       "      <td>0.934693</td>\n",
       "      <td>0.934693</td>\n",
       "      <td>0.934693</td>\n",
       "      <td>0.934693</td>\n",
       "      <td>0.934693</td>\n",
       "      <td>...</td>\n",
       "      <td>0.993527</td>\n",
       "      <td>0.993527</td>\n",
       "      <td>0.993527</td>\n",
       "      <td>0.993527</td>\n",
       "      <td>0.993527</td>\n",
       "      <td>0.999040</td>\n",
       "      <td>0.999040</td>\n",
       "      <td>0.999040</td>\n",
       "      <td>0.999040</td>\n",
       "      <td>0.999040</td>\n",
       "    </tr>\n",
       "  </tbody>\n",
       "</table>\n",
       "<p>4 rows × 25 columns</p>\n",
       "</div>"
      ],
      "text/plain": [
       "                       s=2, n=50  s=2, n=100  s=2, n=200  s=2, n=500  \\\n",
       "Dzeta Riemana wprzód    1.625133    1.634984    1.639947    1.642936   \n",
       "Dzeta Riemana wstecz    1.625517    1.635082    1.639971    1.642940   \n",
       "Eta Dirichleta wprzód   0.822271    0.822418    0.822455    0.822465   \n",
       "Eta Dirichleta wstecz   0.822271    0.822418    0.822455    0.822465   \n",
       "\n",
       "                       s=2, n=1000  s=3.6667, n=50  s=3.6667, n=100  \\\n",
       "Dzeta Riemana wprzód      1.643935        1.109400         1.109409   \n",
       "Dzeta Riemana wstecz      1.643936        1.109400         1.109409   \n",
       "Eta Dirichleta wprzód     0.822467        0.934693         0.934693   \n",
       "Eta Dirichleta wstecz     0.822467        0.934693         0.934693   \n",
       "\n",
       "                       s=3.6667, n=200  s=3.6667, n=500  s=3.6667, n=1000  \\\n",
       "Dzeta Riemana wprzód          1.109410         1.109410          1.109411   \n",
       "Dzeta Riemana wstecz          1.109410         1.109410          1.109411   \n",
       "Eta Dirichleta wprzód         0.934693         0.934693          0.934693   \n",
       "Eta Dirichleta wstecz         0.934693         0.934693          0.934693   \n",
       "\n",
       "                       ...  s=7.2, n=50  s=7.2, n=100  s=7.2, n=200  \\\n",
       "Dzeta Riemana wprzód   ...     1.007228      1.007228      1.007228   \n",
       "Dzeta Riemana wstecz   ...     1.007228      1.007228      1.007228   \n",
       "Eta Dirichleta wprzód  ...     0.993527      0.993527      0.993527   \n",
       "Eta Dirichleta wstecz  ...     0.993527      0.993527      0.993527   \n",
       "\n",
       "                       s=7.2, n=500  s=7.2, n=1000  s=10, n=50  s=10, n=100  \\\n",
       "Dzeta Riemana wprzód       1.007228       1.007228    1.000995     1.000995   \n",
       "Dzeta Riemana wstecz       1.007228       1.007228    1.000995     1.000995   \n",
       "Eta Dirichleta wprzód      0.993527       0.993527    0.999040     0.999040   \n",
       "Eta Dirichleta wstecz      0.993527       0.993527    0.999040     0.999040   \n",
       "\n",
       "                       s=10, n=200  s=10, n=500  s=10, n=1000  \n",
       "Dzeta Riemana wprzód      1.000995     1.000995      1.000995  \n",
       "Dzeta Riemana wstecz      1.000995     1.000995      1.000995  \n",
       "Eta Dirichleta wprzód     0.999040     0.999040      0.999040  \n",
       "Eta Dirichleta wstecz     0.999040     0.999040      0.999040  \n",
       "\n",
       "[4 rows x 25 columns]"
      ]
     },
     "execution_count": 31,
     "metadata": {},
     "output_type": "execute_result"
    }
   ],
   "source": [
    "data"
   ]
  },
  {
   "cell_type": "code",
   "execution_count": 33,
   "metadata": {},
   "outputs": [],
   "source": [
    "s_list_float128 = np.float128(s_list)"
   ]
  },
  {
   "cell_type": "code",
   "execution_count": 34,
   "metadata": {},
   "outputs": [],
   "source": [
    "data = pd.DataFrame({}, index = [\"Dzeta Riemana wprzód\", \"Dzeta Riemana wstecz\", \"Eta Dirichleta wprzód\", \"Eta Dirichleta wstecz\"])\n",
    "for s in s_list_float128:\n",
    "    for n in n_list:\n",
    "        new_data = []\n",
    "        new_data.append(dzeta_Riemana_wprzód(s,n))\n",
    "        new_data.append(dzeta_Riemana_wstecz(s,n))\n",
    "        new_data.append(eta_Dirichleta_wprzód(s,n))\n",
    "        new_data.append(eta_Dirichleta_wstecz(s,n))\n",
    "        data[f\"s={s}, n={n}\"] = new_data"
   ]
  },
  {
   "cell_type": "code",
   "execution_count": 35,
   "metadata": {},
   "outputs": [
    {
     "data": {
      "text/html": [
       "<div>\n",
       "<style scoped>\n",
       "    .dataframe tbody tr th:only-of-type {\n",
       "        vertical-align: middle;\n",
       "    }\n",
       "\n",
       "    .dataframe tbody tr th {\n",
       "        vertical-align: top;\n",
       "    }\n",
       "\n",
       "    .dataframe thead th {\n",
       "        text-align: right;\n",
       "    }\n",
       "</style>\n",
       "<table border=\"1\" class=\"dataframe\">\n",
       "  <thead>\n",
       "    <tr style=\"text-align: right;\">\n",
       "      <th></th>\n",
       "      <th>s=2.0, n=50</th>\n",
       "      <th>s=2.0, n=100</th>\n",
       "      <th>s=2.0, n=200</th>\n",
       "      <th>s=2.0, n=500</th>\n",
       "      <th>s=2.0, n=1000</th>\n",
       "      <th>s=3.6667, n=50</th>\n",
       "      <th>s=3.6667, n=100</th>\n",
       "      <th>s=3.6667, n=200</th>\n",
       "      <th>s=3.6667, n=500</th>\n",
       "      <th>s=3.6667, n=1000</th>\n",
       "      <th>...</th>\n",
       "      <th>s=7.2, n=50</th>\n",
       "      <th>s=7.2, n=100</th>\n",
       "      <th>s=7.2, n=200</th>\n",
       "      <th>s=7.2, n=500</th>\n",
       "      <th>s=7.2, n=1000</th>\n",
       "      <th>s=10.0, n=50</th>\n",
       "      <th>s=10.0, n=100</th>\n",
       "      <th>s=10.0, n=200</th>\n",
       "      <th>s=10.0, n=500</th>\n",
       "      <th>s=10.0, n=1000</th>\n",
       "    </tr>\n",
       "  </thead>\n",
       "  <tbody>\n",
       "    <tr>\n",
       "      <th>Dzeta Riemana wprzód</th>\n",
       "      <td>1.625133</td>\n",
       "      <td>1.634984</td>\n",
       "      <td>1.639947</td>\n",
       "      <td>1.642936</td>\n",
       "      <td>1.643935</td>\n",
       "      <td>1.109400</td>\n",
       "      <td>1.109409</td>\n",
       "      <td>1.109410</td>\n",
       "      <td>1.109410</td>\n",
       "      <td>1.109411</td>\n",
       "      <td>...</td>\n",
       "      <td>1.007228</td>\n",
       "      <td>1.007228</td>\n",
       "      <td>1.007228</td>\n",
       "      <td>1.007228</td>\n",
       "      <td>1.007228</td>\n",
       "      <td>1.000995</td>\n",
       "      <td>1.000995</td>\n",
       "      <td>1.000995</td>\n",
       "      <td>1.000995</td>\n",
       "      <td>1.000995</td>\n",
       "    </tr>\n",
       "    <tr>\n",
       "      <th>Dzeta Riemana wstecz</th>\n",
       "      <td>1.625517</td>\n",
       "      <td>1.635082</td>\n",
       "      <td>1.639971</td>\n",
       "      <td>1.642940</td>\n",
       "      <td>1.643936</td>\n",
       "      <td>1.109400</td>\n",
       "      <td>1.109409</td>\n",
       "      <td>1.109410</td>\n",
       "      <td>1.109410</td>\n",
       "      <td>1.109411</td>\n",
       "      <td>...</td>\n",
       "      <td>1.007228</td>\n",
       "      <td>1.007228</td>\n",
       "      <td>1.007228</td>\n",
       "      <td>1.007228</td>\n",
       "      <td>1.007228</td>\n",
       "      <td>1.000995</td>\n",
       "      <td>1.000995</td>\n",
       "      <td>1.000995</td>\n",
       "      <td>1.000995</td>\n",
       "      <td>1.000995</td>\n",
       "    </tr>\n",
       "    <tr>\n",
       "      <th>Eta Dirichleta wprzód</th>\n",
       "      <td>0.822271</td>\n",
       "      <td>0.822418</td>\n",
       "      <td>0.822455</td>\n",
       "      <td>0.822465</td>\n",
       "      <td>0.822467</td>\n",
       "      <td>0.934693</td>\n",
       "      <td>0.934693</td>\n",
       "      <td>0.934693</td>\n",
       "      <td>0.934693</td>\n",
       "      <td>0.934693</td>\n",
       "      <td>...</td>\n",
       "      <td>0.993527</td>\n",
       "      <td>0.993527</td>\n",
       "      <td>0.993527</td>\n",
       "      <td>0.993527</td>\n",
       "      <td>0.993527</td>\n",
       "      <td>0.999040</td>\n",
       "      <td>0.999040</td>\n",
       "      <td>0.999040</td>\n",
       "      <td>0.999040</td>\n",
       "      <td>0.999040</td>\n",
       "    </tr>\n",
       "    <tr>\n",
       "      <th>Eta Dirichleta wstecz</th>\n",
       "      <td>0.822271</td>\n",
       "      <td>0.822418</td>\n",
       "      <td>0.822455</td>\n",
       "      <td>0.822465</td>\n",
       "      <td>0.822467</td>\n",
       "      <td>0.934693</td>\n",
       "      <td>0.934693</td>\n",
       "      <td>0.934693</td>\n",
       "      <td>0.934693</td>\n",
       "      <td>0.934693</td>\n",
       "      <td>...</td>\n",
       "      <td>0.993527</td>\n",
       "      <td>0.993527</td>\n",
       "      <td>0.993527</td>\n",
       "      <td>0.993527</td>\n",
       "      <td>0.993527</td>\n",
       "      <td>0.999040</td>\n",
       "      <td>0.999040</td>\n",
       "      <td>0.999040</td>\n",
       "      <td>0.999040</td>\n",
       "      <td>0.999040</td>\n",
       "    </tr>\n",
       "  </tbody>\n",
       "</table>\n",
       "<p>4 rows × 25 columns</p>\n",
       "</div>"
      ],
      "text/plain": [
       "                       s=2.0, n=50  s=2.0, n=100  s=2.0, n=200  s=2.0, n=500  \\\n",
       "Dzeta Riemana wprzód      1.625133      1.634984      1.639947      1.642936   \n",
       "Dzeta Riemana wstecz      1.625517      1.635082      1.639971      1.642940   \n",
       "Eta Dirichleta wprzód     0.822271      0.822418      0.822455      0.822465   \n",
       "Eta Dirichleta wstecz     0.822271      0.822418      0.822455      0.822465   \n",
       "\n",
       "                       s=2.0, n=1000  s=3.6667, n=50  s=3.6667, n=100  \\\n",
       "Dzeta Riemana wprzód        1.643935        1.109400         1.109409   \n",
       "Dzeta Riemana wstecz        1.643936        1.109400         1.109409   \n",
       "Eta Dirichleta wprzód       0.822467        0.934693         0.934693   \n",
       "Eta Dirichleta wstecz       0.822467        0.934693         0.934693   \n",
       "\n",
       "                       s=3.6667, n=200  s=3.6667, n=500  s=3.6667, n=1000  \\\n",
       "Dzeta Riemana wprzód          1.109410         1.109410          1.109411   \n",
       "Dzeta Riemana wstecz          1.109410         1.109410          1.109411   \n",
       "Eta Dirichleta wprzód         0.934693         0.934693          0.934693   \n",
       "Eta Dirichleta wstecz         0.934693         0.934693          0.934693   \n",
       "\n",
       "                       ...  s=7.2, n=50  s=7.2, n=100  s=7.2, n=200  \\\n",
       "Dzeta Riemana wprzód   ...     1.007228      1.007228      1.007228   \n",
       "Dzeta Riemana wstecz   ...     1.007228      1.007228      1.007228   \n",
       "Eta Dirichleta wprzód  ...     0.993527      0.993527      0.993527   \n",
       "Eta Dirichleta wstecz  ...     0.993527      0.993527      0.993527   \n",
       "\n",
       "                       s=7.2, n=500  s=7.2, n=1000  s=10.0, n=50  \\\n",
       "Dzeta Riemana wprzód       1.007228       1.007228      1.000995   \n",
       "Dzeta Riemana wstecz       1.007228       1.007228      1.000995   \n",
       "Eta Dirichleta wprzód      0.993527       0.993527      0.999040   \n",
       "Eta Dirichleta wstecz      0.993527       0.993527      0.999040   \n",
       "\n",
       "                       s=10.0, n=100  s=10.0, n=200  s=10.0, n=500  \\\n",
       "Dzeta Riemana wprzód        1.000995       1.000995       1.000995   \n",
       "Dzeta Riemana wstecz        1.000995       1.000995       1.000995   \n",
       "Eta Dirichleta wprzód       0.999040       0.999040       0.999040   \n",
       "Eta Dirichleta wstecz       0.999040       0.999040       0.999040   \n",
       "\n",
       "                       s=10.0, n=1000  \n",
       "Dzeta Riemana wprzód         1.000995  \n",
       "Dzeta Riemana wstecz         1.000995  \n",
       "Eta Dirichleta wprzód        0.999040  \n",
       "Eta Dirichleta wstecz        0.999040  \n",
       "\n",
       "[4 rows x 25 columns]"
      ]
     },
     "execution_count": 35,
     "metadata": {},
     "output_type": "execute_result"
    }
   ],
   "source": [
    "data"
   ]
  },
  {
   "cell_type": "markdown",
   "metadata": {},
   "source": [
    "### Część 4 - Błędy zaokrągleń i odwzorowanie logistyczne"
   ]
  },
  {
   "cell_type": "code",
   "execution_count": 36,
   "metadata": {},
   "outputs": [],
   "source": [
    "def func(x, r, i=10000):\n",
    "    tab = [x]\n",
    "    for j in range(i):\n",
    "        x = r*x*(1-x)\n",
    "        tab.append(x)\n",
    "    return tab"
   ]
  },
  {
   "cell_type": "code",
   "execution_count": null,
   "metadata": {},
   "outputs": [],
   "source": [
    "def make_chart():\n",
    "    "
   ]
  }
 ],
 "metadata": {
  "kernelspec": {
   "display_name": "Python 3 (ipykernel)",
   "language": "python",
   "name": "python3"
  },
  "language_info": {
   "codemirror_mode": {
    "name": "ipython",
    "version": 3
   },
   "file_extension": ".py",
   "mimetype": "text/x-python",
   "name": "python",
   "nbconvert_exporter": "python",
   "pygments_lexer": "ipython3",
   "version": "3.11.5"
  }
 },
 "nbformat": 4,
 "nbformat_minor": 2
}
