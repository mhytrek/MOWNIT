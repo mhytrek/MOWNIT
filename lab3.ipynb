{
 "cells": [
  {
   "cell_type": "markdown",
   "metadata": {},
   "source": [
    "# MOWNIT - LAB 3 - Równania nieliniowe"
   ]
  },
  {
   "cell_type": "code",
   "execution_count": 144,
   "metadata": {},
   "outputs": [],
   "source": [
    "import math\n",
    "from math import pi\n",
    "from mpmath import sec"
   ]
  },
  {
   "cell_type": "code",
   "execution_count": 146,
   "metadata": {},
   "outputs": [],
   "source": [
    "f1 = lambda x: math.cos(x) * math.cosh(x) - 1\n",
    "df1 = lambda x: math.cos(x) * math.sinh(x) - math.cosh(x) * math.sin(x)\n",
    "b1 = (3/2 * pi, 2*pi)\n",
    "\n",
    "f2 = lambda x: 1/x - math.tan(x)\n",
    "df2 = lambda x: -(sec(x))**2 - 1 / x**2\n",
    "b2 = (0, pi/2)\n",
    "\n",
    "f3 = lambda x: 2**(-x) + math.e**x + 2 * math.cos(x) - 6\n",
    "df3 = lambda x: -2 * math.sin(x) + math.e**x - math.log(2) / 2**x\n",
    "b3 = (1, 3)"
   ]
  },
  {
   "cell_type": "code",
   "execution_count": 147,
   "metadata": {},
   "outputs": [],
   "source": [
    "def sgn(x):\n",
    "    if x > 0:\n",
    "        return 1\n",
    "    elif x < 0:\n",
    "        return -1\n",
    "    else:\n",
    "        return 0"
   ]
  },
  {
   "cell_type": "code",
   "execution_count": 148,
   "metadata": {},
   "outputs": [],
   "source": [
    "def bisekcja(function, range, epsilon=10**(-10), delta=10**(-10), max_iter = 10000):\n",
    "\n",
    "    a, b = range\n",
    "    iter = 0\n",
    "    if a == 0:\n",
    "        a += 10**(-5)\n",
    "    if b == 0:\n",
    "        b -= 10**(-5)\n",
    "    \n",
    "\n",
    "    # if sgn(function(a)) == sgn(function(b)):\n",
    "    #     return \"Nie ma pierwiastka na tym przedziale\"\n",
    "    \n",
    "    c = a + (b-a)/2\n",
    "\n",
    "    while iter < max_iter and abs(function(c)) > epsilon and abs(b-a) > delta:\n",
    "\n",
    "        c = a + (b-a)/2\n",
    "\n",
    "        if sgn(function(c)) == sgn(function(a)):\n",
    "            a = c\n",
    "        else:\n",
    "            b = c\n",
    "        iter += 1\n",
    "\n",
    "    return c, iter"
   ]
  },
  {
   "cell_type": "code",
   "execution_count": 177,
   "metadata": {},
   "outputs": [],
   "source": [
    "def Newton(function, df, range, epsilon=10**(-7), delta=10**(-7), max_iter = 100):\n",
    "    \n",
    "    a, b = range\n",
    "    iter = 0\n",
    "\n",
    "    if a == 0:\n",
    "        a += 10**(-5)\n",
    "    if b == 0:\n",
    "        b -= 10**(-5)\n",
    "        \n",
    "    if sgn(function(a)) == sgn(function(b)):\n",
    "        return \"Nie ma pierwiastka na tym przedziale\"\n",
    "    \n",
    "    xn = b+1\n",
    "    x_n1 = b\n",
    "\n",
    "    while iter < max_iter and abs(function(x_n1)) > epsilon and abs(b-a) > delta:\n",
    "        x_n = x_n1\n",
    "        x_n1 = x_n - (function(x_n)/df(x_n))\n",
    "        b = x_n1\n",
    "        iter += 1\n",
    "\n",
    "    return x_n1, iter\n"
   ]
  },
  {
   "cell_type": "code",
   "execution_count": 178,
   "metadata": {},
   "outputs": [],
   "source": [
    "def Sieczne(function, range, epsilon=10**(-7), delta=10**(-7), max_iter = 100):\n",
    "    a, b = range\n",
    "    iter = 0\n",
    "        \n",
    "    if a == 0:\n",
    "        a += 10**(-5)\n",
    "    if b == 0:\n",
    "        b -= 10**(-5)\n",
    "\n",
    "    if sgn(function(a)) == sgn(function(b)):\n",
    "        return \"Nie ma pierwiastka na tym przedziale\"\n",
    "    \n",
    "    x_n = b + 1\n",
    "    x_n1 = b\n",
    "\n",
    "    while iter < max_iter and abs(function(x_n1)) > epsilon and abs(b-a) > delta:\n",
    "        b = x_n1\n",
    "        df = (x_n - x_n1)/(function(x_n) - function(x_n1))\n",
    "        x_n1 = x_n - function(x_n)*df\n",
    "        x_n = b  \n",
    "        iter += 1\n",
    "\n",
    "    return x_n1, iter\n"
   ]
  },
  {
   "cell_type": "code",
   "execution_count": 179,
   "metadata": {},
   "outputs": [
    {
     "name": "stdout",
     "output_type": "stream",
     "text": [
      "(4.730040744862961, 32)\n",
      "(4.730040744862776, 6)\n",
      "(4.730040744793534, 10)\n"
     ]
    }
   ],
   "source": [
    "print(bisekcja(f1, (3/2*math.pi, 2*math.pi)))\n",
    "print(Newton(f1, df1, (3/2*math.pi, 2*math.pi)))\n",
    "print(Sieczne(f1, (3/2*math.pi, 2*math.pi)))"
   ]
  },
  {
   "cell_type": "code",
   "execution_count": 182,
   "metadata": {},
   "outputs": [
    {
     "name": "stdout",
     "output_type": "stream",
     "text": [
      "(0.860333589031082, 33)\n",
      "(mpf('1.5707963267948966'), 100)\n"
     ]
    },
    {
     "ename": "ZeroDivisionError",
     "evalue": "float division by zero",
     "output_type": "error",
     "traceback": [
      "\u001b[0;31m---------------------------------------------------------------------------\u001b[0m",
      "\u001b[0;31mZeroDivisionError\u001b[0m                         Traceback (most recent call last)",
      "Cell \u001b[0;32mIn[182], line 3\u001b[0m\n\u001b[1;32m      1\u001b[0m \u001b[38;5;28mprint\u001b[39m(bisekcja(f2, (\u001b[38;5;241m0\u001b[39m, math\u001b[38;5;241m.\u001b[39mpi\u001b[38;5;241m/\u001b[39m\u001b[38;5;241m2\u001b[39m)))\n\u001b[1;32m      2\u001b[0m \u001b[38;5;28mprint\u001b[39m(Newton(f2, df2, (\u001b[38;5;241m0\u001b[39m, math\u001b[38;5;241m.\u001b[39mpi\u001b[38;5;241m/\u001b[39m\u001b[38;5;241m2\u001b[39m)))\n\u001b[0;32m----> 3\u001b[0m \u001b[38;5;28mprint\u001b[39m(Sieczne(f2, (\u001b[38;5;241m0\u001b[39m, math\u001b[38;5;241m.\u001b[39mpi\u001b[38;5;241m/\u001b[39m\u001b[38;5;241m2\u001b[39m)))\n",
      "Cell \u001b[0;32mIn[178], line 18\u001b[0m, in \u001b[0;36mSieczne\u001b[0;34m(function, range, epsilon, delta, max_iter)\u001b[0m\n\u001b[1;32m     16\u001b[0m \u001b[38;5;28;01mwhile\u001b[39;00m \u001b[38;5;28miter\u001b[39m \u001b[38;5;241m<\u001b[39m max_iter \u001b[38;5;129;01mand\u001b[39;00m \u001b[38;5;28mabs\u001b[39m(function(x_n1)) \u001b[38;5;241m>\u001b[39m epsilon \u001b[38;5;129;01mand\u001b[39;00m \u001b[38;5;28mabs\u001b[39m(b\u001b[38;5;241m-\u001b[39ma) \u001b[38;5;241m>\u001b[39m delta:\n\u001b[1;32m     17\u001b[0m     b \u001b[38;5;241m=\u001b[39m x_n1\n\u001b[0;32m---> 18\u001b[0m     df \u001b[38;5;241m=\u001b[39m (x_n \u001b[38;5;241m-\u001b[39m x_n1)\u001b[38;5;241m/\u001b[39m(function(x_n) \u001b[38;5;241m-\u001b[39m function(x_n1))\n\u001b[1;32m     19\u001b[0m     x_n1 \u001b[38;5;241m=\u001b[39m x_n \u001b[38;5;241m-\u001b[39m function(x_n)\u001b[38;5;241m*\u001b[39mdf\n\u001b[1;32m     20\u001b[0m     x_n \u001b[38;5;241m=\u001b[39m b  \n",
      "\u001b[0;31mZeroDivisionError\u001b[0m: float division by zero"
     ]
    }
   ],
   "source": [
    "print(bisekcja(f2, (0, math.pi/2)))\n",
    "print(Newton(f2, df2, (0, math.pi/2)))\n",
    "print(Sieczne(f2, (0, math.pi/2)))"
   ]
  },
  {
   "cell_type": "code",
   "execution_count": null,
   "metadata": {},
   "outputs": [
    {
     "name": "stdout",
     "output_type": "stream",
     "text": [
      "(1.8293836019583978, 35)\n",
      "(1.8293836019338579, 6)\n",
      "(1.829383602316394, 8)\n"
     ]
    }
   ],
   "source": [
    "print(bisekcja(f3, (1,3)))\n",
    "print(Newton(f3, df3, (1,3)))\n",
    "print(Sieczne(f3, (1,3)))"
   ]
  }
 ],
 "metadata": {
  "kernelspec": {
   "display_name": "base",
   "language": "python",
   "name": "python3"
  },
  "language_info": {
   "codemirror_mode": {
    "name": "ipython",
    "version": 3
   },
   "file_extension": ".py",
   "mimetype": "text/x-python",
   "name": "python",
   "nbconvert_exporter": "python",
   "pygments_lexer": "ipython3",
   "version": "3.11.5"
  }
 },
 "nbformat": 4,
 "nbformat_minor": 2
}
