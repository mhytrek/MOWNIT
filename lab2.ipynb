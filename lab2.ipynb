{
 "cells": [
  {
   "cell_type": "markdown",
   "metadata": {},
   "source": [
    "# MOWNIT - LAB 2 - Rozwiązywanie układów równań liniowych\n",
    "\n",
    "### część 1 - Metoda Gaussa-Jordana"
   ]
  },
  {
   "cell_type": "code",
   "execution_count": 776,
   "metadata": {},
   "outputs": [],
   "source": [
    "import random\n",
    "import time\n",
    "import numpy as np\n",
    "import scipy"
   ]
  },
  {
   "cell_type": "code",
   "execution_count": 777,
   "metadata": {},
   "outputs": [],
   "source": [
    "def normalizing(matrix):\n",
    "    n = len(matrix)\n",
    "    for i in range(n):\n",
    "        max_var = max(matrix[i][:-1])\n",
    "        if max_var < abs(min(matrix[i][:-1])):\n",
    "            max_var = min(matrix[i][:-1])\n",
    "        matrix[i] = [matrix[i][x]/max_var for x in range(n+1)]\n",
    "    return matrix"
   ]
  },
  {
   "cell_type": "code",
   "execution_count": 778,
   "metadata": {},
   "outputs": [],
   "source": [
    "#Zwraca indeks wartosci najwiekszej w kolumnie\n",
    "\n",
    "def partial_pivoting(ind_c, matrix, changed) -> int:\n",
    "    n = len(matrix)\n",
    "    index_biggest = ind_c\n",
    "    for i in range(1+ind_c,n):\n",
    "        if abs(matrix[changed[i]][ind_c]) > abs(matrix[changed[index_biggest]][ind_c]):\n",
    "            index_biggest = i\n",
    "    return index_biggest\n",
    "\n",
    "#Dokoncz implementacje jesli bedziesz miec czas!!!!!\n",
    "#dodaj changed\n",
    "def full_pivoting(ind, matrix) -> tuple:\n",
    "    n = len(matrix)\n",
    "    index_biggest = (ind,ind)\n",
    "    for i in range(1+ind_c,n):\n",
    "        if abs(matrix[i][ind]) > abs(matrix[index_biggest[0]][index_biggest[1]]):\n",
    "            index_biggest = (i, ind)\n",
    "        if abs(matrix[ind][i]) > abs(matrix[index_biggest[1]][index_biggest[1]]):\n",
    "            index_biggest = (ind, i)\n",
    "    return index_biggest"
   ]
  },
  {
   "cell_type": "code",
   "execution_count": 779,
   "metadata": {},
   "outputs": [],
   "source": [
    "def count_with_pivoting(matrix, fullpivoting=False):\n",
    "    matrix = normalizing(matrix)\n",
    "    n = len(matrix)\n",
    "    \n",
    "    pivoting = [i for i in range(n)]\n",
    "    \n",
    "    #zerowanie dolnego trójkąta\n",
    "    for col in range(n): # zastanow sie nad zmiana nazwy col\n",
    "        \n",
    "        #partial-pivoting w miejscu\n",
    "        to_change = partial_pivoting(col, matrix, pivoting)\n",
    "        pivoting[to_change], pivoting[col] = pivoting[col], pivoting[to_change]\n",
    "\n",
    "        for i in range(col+1,n):\n",
    "            multiplier = -matrix[pivoting[i]][col]/matrix[pivoting[col]][col]\n",
    "            for new_col in range(0, len(matrix[i])):\n",
    "                if new_col > col:\n",
    "                    matrix[pivoting[i]][new_col] += (matrix[pivoting[col]][new_col]*multiplier)\n",
    "                # else:\n",
    "                #     matrix[pivoting[i]][new_col] = 0\n",
    "\n",
    "\n",
    "    #zerowanie gornego trójkata\n",
    "    for col in range(n-1, 0,-1):\n",
    "\n",
    "        for i in range(0,col):\n",
    "            multiplier = -matrix[pivoting[i]][col]/matrix[pivoting[col]][col]\n",
    "            matrix[pivoting[i]][-1] += matrix[pivoting[col]][-1]*multiplier\n",
    "\n",
    "            # for new_col in range(0, len(matrix[i])):\n",
    "                # if new_col < col or new_col >= n:\n",
    "                #     matrix[pivoting[i]][new_col] += (matrix[pivoting[col]][new_col]*multiplier)\n",
    "                # else:\n",
    "                #     matrix[pivoting[i]][new_col] = 0\n",
    "        \n",
    "    return [matrix[pivoting[i]][-1]/matrix[pivoting[i]][i] for i in range(len(matrix))]\n",
    "                \n"
   ]
  },
  {
   "cell_type": "code",
   "execution_count": 793,
   "metadata": {},
   "outputs": [],
   "source": [
    "def count_without_pivoting(matrix):\n",
    "    matrix = normalizing(matrix)\n",
    "    n = len(matrix)\n",
    "    \n",
    "    #zerowanie dolnego trójkąta\n",
    "    for col in range(n): # zastanow sie nad zmiana nazwy col\n",
    "\n",
    "        for i in range(col+1,n):\n",
    "            multiplier = -matrix[i][col]/matrix[col][col]\n",
    "            for new_col in range(0, len(matrix[i])):\n",
    "                if new_col > col:\n",
    "                    matrix[i][new_col] += (matrix[col][new_col]*multiplier)\n",
    "                # else:\n",
    "                #     matrix[i][new_col] = 0\n",
    "\n",
    "\n",
    "    #zerowanie gornego trójkata\n",
    "    for col in range(n-1, 0,-1):\n",
    "        \n",
    "        for i in range(0,col):\n",
    "            multiplier = -matrix[i][col]/matrix[col][col]\n",
    "            matrix[i][-1] += matrix[col][-1]*multiplier\n",
    "\n",
    "            # for new_col in range(0, len(matrix[i])):\n",
    "            #     if new_col <= col or new_col >= n:\n",
    "            #         matrix[i][new_col] += (matrix[col][new_col]*multiplier)\n",
    "            #     else:\n",
    "            #         matrix[i][new_col] = 0\n",
    "        \n",
    "    matrix = normalizing(matrix)\n",
    "    return [matrix[i][-1]/matrix[i][i] for i in range(len(matrix))]\n",
    "                \n"
   ]
  },
  {
   "cell_type": "code",
   "execution_count": 796,
   "metadata": {},
   "outputs": [],
   "source": [
    "#testy\n",
    "def test_matrix_int(n):\n",
    "    return [[random.randint(1,100) for _ in range(n+1)] for _ in range(n)]\n",
    "\n",
    "\n",
    "random.seed(10)\n",
    "n = [random.randint(500,600) for _ in range(2)]\n",
    "testing_matrixs = [test_matrix_int(i) for i in n]"
   ]
  },
  {
   "cell_type": "code",
   "execution_count": 797,
   "metadata": {},
   "outputs": [
    {
     "name": "stdout",
     "output_type": "stream",
     "text": [
      "Test 1: True  wielkość: 573 \n",
      " czas biblioteczny: 0.08 \n",
      " czas mój: 13.965 \n",
      "\n",
      "Test 2: True  wielkość: 504 \n",
      " czas biblioteczny: 0.036 \n",
      " czas mój: 7.711 \n",
      "\n"
     ]
    }
   ],
   "source": [
    "# testuj bez pivotingu + z innych bibliotek + full pivoting\n",
    "# Sprawdz dokladnosc wynikow ( funkcje + po przecinku ile)\n",
    "#Testing\n",
    "def are_the_same(a1, a2, after_comma=5):\n",
    "    if len(a1) != len(a2):\n",
    "        return False\n",
    "    for i in range(len(a1)):\n",
    "        if round(a1[i],after_comma) != round(a2[i],after_comma):\n",
    "            return False\n",
    "    return True\n",
    "\n",
    "index = 0\n",
    "for m in testing_matrixs:\n",
    "    index += 1\n",
    "    A = [[m[i][j] for j in range(len(m))] for i in range(len(m))]\n",
    "    B = [m[i][-1] for i in range(len(m))]\n",
    "    t1_lib = time.time()\n",
    "    library_result = np.linalg.solve(np.array(A), np.array(B))\n",
    "    t_lib = np.round(time.time() - t1_lib, 3)\n",
    "\n",
    "    t1_my = time.time()\n",
    "    a = count_with_pivoting(m)\n",
    "    t_my = np.round(time.time() - t1_my, 3)\n",
    "\n",
    "    my_result = np.array(a)\n",
    "    \n",
    "    print(f\"Test {index}: {are_the_same(library_result,my_result)}  wielkość: {len(m)} \\n czas biblioteczny: {t_lib} \\n czas mój: {t_my} \\n\")"
   ]
  },
  {
   "cell_type": "code",
   "execution_count": 783,
   "metadata": {},
   "outputs": [],
   "source": [
    "#### Wnioski\n"
   ]
  },
  {
   "cell_type": "code",
   "execution_count": 784,
   "metadata": {},
   "outputs": [],
   "source": [
    "## Część 2 - Faktoryzacjza LU"
   ]
  },
  {
   "cell_type": "code",
   "execution_count": null,
   "metadata": {},
   "outputs": [],
   "source": [
    "def count_without_pivoting(matrix):\n",
    "    matrix = normalizing(matrix)\n",
    "    n = len(matrix)\n",
    "    \n",
    "    #zerowanie dolnego trójkąta\n",
    "    for col in range(n): # zastanow sie nad zmiana nazwy col\n",
    "\n",
    "        for i in range(col+1,n):\n",
    "            multiplier = -matrix[i][col]/matrix[col][col]\n",
    "\n",
    "            for new_col in range(0, len(matrix[i])):\n",
    "\n",
    "                if new_col > col:\n",
    "                    matrix[i][new_col] += (matrix[col][new_col]*multiplier) \n",
    "                else:\n",
    "                    matrix[i][new_col]\n",
    "        \n",
    "    return [matrix[i][-1]/matrix[i][i] for i in range(len(matrix))]"
   ]
  },
  {
   "cell_type": "code",
   "execution_count": null,
   "metadata": {},
   "outputs": [],
   "source": []
  }
 ],
 "metadata": {
  "kernelspec": {
   "display_name": "base",
   "language": "python",
   "name": "python3"
  },
  "language_info": {
   "codemirror_mode": {
    "name": "ipython",
    "version": 3
   },
   "file_extension": ".py",
   "mimetype": "text/x-python",
   "name": "python",
   "nbconvert_exporter": "python",
   "pygments_lexer": "ipython3",
   "version": "3.11.5"
  }
 },
 "nbformat": 4,
 "nbformat_minor": 2
}
